{
 "cells": [
  {
   "cell_type": "code",
   "execution_count": null,
   "id": "bcc9a574-15d4-4d05-909e-027ff99c50b2",
   "metadata": {},
   "outputs": [],
   "source": [
    "import tweepy"
   ]
  },
  {
   "cell_type": "code",
   "execution_count": null,
   "id": "151e57b0-0b16-4ea3-91e5-f6bdffd002f0",
   "metadata": {},
   "outputs": [],
   "source": [
    "from config.token import consumer_secret, consumer_key, access_token_secret, access_token"
   ]
  },
  {
   "cell_type": "code",
   "execution_count": null,
   "id": "a5ff69c6-1288-4e23-8726-7de6cb639d18",
   "metadata": {},
   "outputs": [],
   "source": [
    "auth = tweepy.OAuthHandler(consumer_key, consumer_secret)\n",
    "auth.set_access_token(access_token, access_token_secret)\n",
    "api = tweepy.API(auth)"
   ]
  },
  {
   "cell_type": "code",
   "execution_count": null,
   "id": "a4dddce7-6a60-4931-b45d-874384060b08",
   "metadata": {},
   "outputs": [],
   "source": [
    "keyword = ('teen wolf' + '-filter:retweets')"
   ]
  },
  {
   "cell_type": "code",
   "execution_count": null,
   "id": "110a7b42-4a93-4412-be28-a8a8b74a118d",
   "metadata": {
    "scrolled": true,
    "tags": []
   },
   "outputs": [],
   "source": [
    "#Configurando os tweets que quero receber: \n",
    "#(q= palavra chave, count= a quantidade de tweets que quero receber, result_type mixed é um misto de populares e recentes.)\n",
    "tweets = api.search(q=keyword,count=100,result_type='mixed', lang='en')"
   ]
  },
  {
   "cell_type": "code",
   "execution_count": null,
   "id": "450ddd07-f1e0-4cb1-a1bf-a6da4cb88cde",
   "metadata": {},
   "outputs": [],
   "source": [
    "#Para ver a quantidade de tweets coletado.\n",
    "print(\"Total de tweets coletados %s.\" % (len(tweets)))"
   ]
  },
  {
   "cell_type": "code",
   "execution_count": null,
   "id": "10a54730-400b-4387-96a5-401cda7bde37",
   "metadata": {
    "scrolled": true,
    "tags": []
   },
   "outputs": [],
   "source": [
    "#Faz o loop para trazer os tweets --> screen_name é uma subchave dentro de user\n",
    "for tweet in tweets:\n",
    "    print(\"Data: %s \" % {tweet.created_at})\n",
    "    print(\"Usuário: %s \" % {tweet.user.screen_name})\n",
    "    print(\"  Tweet: %s \" % {tweet.text})"
   ]
  },
  {
   "cell_type": "markdown",
   "id": "6be8b641-07ef-4810-a547-96637d9a3671",
   "metadata": {},
   "source": [
    "## Análise de sentimentos\n",
    "#### Aqui usei a biblioteca textBlob que já traz a função para analisar a polaridade (sentimento) onde retorna um valor entre -1 e 1, onde quanto mais próximo de 1 mais positivo é aquele texto. "
   ]
  },
  {
   "cell_type": "code",
   "execution_count": null,
   "id": "6c3442c5-32c8-4049-a3f2-fff72c9f880e",
   "metadata": {},
   "outputs": [],
   "source": [
    "#importação pacotes\n",
    "\n",
    "from textblob import TextBlob as Tb\n",
    "import numpy as np"
   ]
  },
  {
   "cell_type": "code",
   "execution_count": null,
   "id": "25296497-c588-4db3-af5e-a7a91a642911",
   "metadata": {},
   "outputs": [],
   "source": [
    "#variável para armazenar as polaridades\n",
    "analysis = None"
   ]
  },
  {
   "cell_type": "code",
   "execution_count": null,
   "id": "805f8ba0-6d6f-40f2-bc6c-f1141ad99057",
   "metadata": {},
   "outputs": [],
   "source": [
    "#Vetor para armazenar os scores\n",
    "tweets_score = []"
   ]
  },
  {
   "cell_type": "code",
   "execution_count": null,
   "id": "e2008bc8-fd41-4822-a3d7-0c8164959459",
   "metadata": {
    "scrolled": true,
    "tags": []
   },
   "outputs": [],
   "source": [
    "for tweet in tweets:\n",
    "  print('++', tweet.text)\n",
    "  analysis = Tb(tweet.text)\n",
    "  polarity = analysis.sentiment.polarity\n",
    "  tweets_score.append(polarity)  "
   ]
  },
  {
   "cell_type": "code",
   "execution_count": null,
   "id": "0260bcd0-33d8-45e6-aada-8dcd8eab248e",
   "metadata": {},
   "outputs": [],
   "source": [
    "print('Vetor de polaridade: ' , tweets_score)"
   ]
  },
  {
   "cell_type": "code",
   "execution_count": null,
   "id": "1a8ac39f-b0dd-4786-bd2f-105a21f19ff9",
   "metadata": {},
   "outputs": [],
   "source": [
    "print('Média de Sentimento: ' + str(np.mean(tweets_score)))"
   ]
  },
  {
   "cell_type": "markdown",
   "id": "e4ff196f-9876-49e8-b114-984ef8b8b085",
   "metadata": {},
   "source": [
    "## Armazenando tweets coletados"
   ]
  },
  {
   "cell_type": "code",
   "execution_count": null,
   "id": "efcc1d58-d091-4625-ac09-956e50e748e6",
   "metadata": {},
   "outputs": [],
   "source": [
    "#importa o pacote json\n",
    "import json"
   ]
  },
  {
   "cell_type": "code",
   "execution_count": null,
   "id": "0c1fe516-47f2-44fb-9cd8-f3416105e6b7",
   "metadata": {},
   "outputs": [],
   "source": [
    "status = tweets[0]"
   ]
  },
  {
   "cell_type": "code",
   "execution_count": null,
   "id": "398904bd-f77c-4790-8931-97241a1abe4b",
   "metadata": {},
   "outputs": [],
   "source": [
    "#converter para string\n",
    "json_str = json.dumps(status._json)\n",
    "\n",
    "#deserialise string para um objeto pyton\n",
    "parsed = json.loads(json_str)"
   ]
  },
  {
   "cell_type": "code",
   "execution_count": null,
   "id": "30339906-6662-442e-a14f-7f6cda81b8db",
   "metadata": {},
   "outputs": [],
   "source": [
    "type(tweets)"
   ]
  },
  {
   "cell_type": "code",
   "execution_count": null,
   "id": "1f6ececb-4e93-4afe-a346-4b20a43b6883",
   "metadata": {},
   "outputs": [],
   "source": [
    "type(json_str)"
   ]
  },
  {
   "cell_type": "code",
   "execution_count": null,
   "id": "22a41a15-8343-4d5b-8db2-94bfcad8899f",
   "metadata": {},
   "outputs": [],
   "source": [
    "type(parsed)"
   ]
  },
  {
   "cell_type": "code",
   "execution_count": null,
   "id": "5587d892-0116-4d4e-ae1e-3c6e370596d2",
   "metadata": {},
   "outputs": [],
   "source": [
    "# salvando o arquivo chamado tweets_keyword.json\n",
    "datasetPath = 'C:\\BootcampCarrefour\\datasets'\n",
    "\n",
    "with open(datasetPath+'\\\\tweets_keywords.json', 'a', encoding='utf8') as filename:\n",
    "  for tweet in tweets:\n",
    "    status = tweet\n",
    "    json_str = json.dumps(status._json)\n",
    "    json_str = json.loads(json_str)\n",
    "    json.dump(parsed, filename, ensure_ascii=False, sort_keys=True, indent=4, separators=(',' , ':'))"
   ]
  },
  {
   "cell_type": "markdown",
   "id": "53b10cb2-22ca-493f-b508-ae2c46e53ebb",
   "metadata": {},
   "source": [
    "### Salvando os dados no MongoDB"
   ]
  },
  {
   "cell_type": "code",
   "execution_count": null,
   "id": "71ed69ee-709f-44c8-8072-f5c6a2edf9e5",
   "metadata": {},
   "outputs": [],
   "source": [
    "# importando o pacote pymongo \n",
    "import pymongo"
   ]
  },
  {
   "cell_type": "code",
   "execution_count": null,
   "id": "e3aa78a7-f40c-40e6-b3c7-24817e49cb09",
   "metadata": {},
   "outputs": [],
   "source": [
    "# fazendo a conexão com o banco de dados\n",
    "con = pymongo.MongoClient('localhost', 27017)"
   ]
  },
  {
   "cell_type": "code",
   "execution_count": null,
   "id": "39067ca3-8eb6-4724-b3ca-0364a97a80c8",
   "metadata": {},
   "outputs": [],
   "source": [
    "# verificando o status da conexão\n",
    "con"
   ]
  },
  {
   "cell_type": "code",
   "execution_count": null,
   "id": "a753404e-25f4-475b-8b33-03066de3367f",
   "metadata": {},
   "outputs": [],
   "source": [
    "# verificando a lista de bancos já criados\n",
    "con.list_database_names()"
   ]
  },
  {
   "cell_type": "code",
   "execution_count": null,
   "id": "6a53d970-e8ae-40b1-9375-398d91af1ef7",
   "metadata": {},
   "outputs": [],
   "source": [
    "#selecionando o banco de dados que irei utilizar\n",
    "db = con.twitterdb"
   ]
  },
  {
   "cell_type": "code",
   "execution_count": null,
   "id": "1ee06012-3c9f-44cf-8c82-3d8b6a063848",
   "metadata": {},
   "outputs": [],
   "source": [
    "con.list_database_names()"
   ]
  },
  {
   "cell_type": "code",
   "execution_count": null,
   "id": "b4710fb7-2762-4578-a326-ced062e9b33b",
   "metadata": {},
   "outputs": [],
   "source": [
    "#selecionando a coleção para salvar os dados\n",
    "collection = db.tweets_keyword"
   ]
  },
  {
   "cell_type": "code",
   "execution_count": null,
   "id": "95f0b298-68e4-420a-8dbf-e1de0859ff83",
   "metadata": {},
   "outputs": [],
   "source": [
    "db.tweets_keyword.count_documents({})"
   ]
  },
  {
   "cell_type": "code",
   "execution_count": null,
   "id": "b8c2dea5-1087-424b-ba6c-e1acfb263e18",
   "metadata": {},
   "outputs": [],
   "source": [
    "i = 0\n",
    "for tweet in tweets:\n",
    "     db.tweets_keywords.insert_one(tweet._json)\n",
    "     i= i+1"
   ]
  },
  {
   "cell_type": "code",
   "execution_count": null,
   "id": "159b9012-e432-47ca-a55d-34f3a7293a6c",
   "metadata": {},
   "outputs": [],
   "source": [
    "#lista a quantidade tweets inseridos na coleção\n",
    "print(i)"
   ]
  },
  {
   "cell_type": "code",
   "execution_count": null,
   "id": "9b6ad5e5-4865-4715-aaad-806422e11049",
   "metadata": {},
   "outputs": [],
   "source": []
  }
 ],
 "metadata": {
  "kernelspec": {
   "display_name": "Python 3",
   "language": "python",
   "name": "python3"
  },
  "language_info": {
   "codemirror_mode": {
    "name": "ipython",
    "version": 3
   },
   "file_extension": ".py",
   "mimetype": "text/x-python",
   "name": "python",
   "nbconvert_exporter": "python",
   "pygments_lexer": "ipython3",
   "version": "3.8.8"
  }
 },
 "nbformat": 4,
 "nbformat_minor": 5
}
