{
 "cells": [
  {
   "cell_type": "code",
   "execution_count": 2,
   "id": "bcc9a574-15d4-4d05-909e-027ff99c50b2",
   "metadata": {},
   "outputs": [],
   "source": [
    "import tweepy"
   ]
  },
  {
   "cell_type": "code",
   "execution_count": 3,
   "id": "151e57b0-0b16-4ea3-91e5-f6bdffd002f0",
   "metadata": {},
   "outputs": [],
   "source": [
    "from config.token import consumer_secret, consumer_key, access_token_secret, access_token"
   ]
  },
  {
   "cell_type": "code",
   "execution_count": 4,
   "id": "a5ff69c6-1288-4e23-8726-7de6cb639d18",
   "metadata": {},
   "outputs": [],
   "source": [
    "auth = tweepy.OAuthHandler(consumer_key, consumer_secret)\n",
    "auth.set_access_token(access_token, access_token_secret)\n",
    "api = tweepy.API(auth)"
   ]
  },
  {
   "cell_type": "code",
   "execution_count": 5,
   "id": "a4dddce7-6a60-4931-b45d-874384060b08",
   "metadata": {},
   "outputs": [],
   "source": [
    "keyword = ('carrefour' + '-filter:retweets')"
   ]
  },
  {
   "cell_type": "code",
   "execution_count": 6,
   "id": "110a7b42-4a93-4412-be28-a8a8b74a118d",
   "metadata": {
    "scrolled": true,
    "tags": []
   },
   "outputs": [],
   "source": [
    "#Configurando os tweets que quero receber: \n",
    "#(q= palavra chave, count= a quantidade de tweets que quero receber, result_type mixed é um misto de populares e recentes.)\n",
    "tweets = api.search(q=keyword,count=50,result_type='mixed', lang='en')"
   ]
  },
  {
   "cell_type": "markdown",
   "id": "6be8b641-07ef-4810-a547-96637d9a3671",
   "metadata": {},
   "source": [
    "## Análise de sentimentos\n",
    "#### Aqui usei a biblioteca textBlob que já traz a função para analisar a polaridade (sentimento) onde retorna um valor entre -1 e 1, onde quanto mais próximo de 1 mais positivo é aquele texto. "
   ]
  },
  {
   "cell_type": "code",
   "execution_count": 7,
   "id": "6c3442c5-32c8-4049-a3f2-fff72c9f880e",
   "metadata": {},
   "outputs": [],
   "source": [
    "#importação pacotes\n",
    "\n",
    "from textblob import TextBlob as Tb\n",
    "import numpy as np\n"
   ]
  },
  {
   "cell_type": "code",
   "execution_count": 8,
   "id": "25296497-c588-4db3-af5e-a7a91a642911",
   "metadata": {},
   "outputs": [],
   "source": [
    "#variável para armazenar as polaridades\n",
    "analysis = None"
   ]
  },
  {
   "cell_type": "code",
   "execution_count": 15,
   "id": "805f8ba0-6d6f-40f2-bc6c-f1141ad99057",
   "metadata": {},
   "outputs": [],
   "source": [
    "#Vetor para armazenar os scores\n",
    "tweets_score = []"
   ]
  },
  {
   "cell_type": "code",
   "execution_count": 16,
   "id": "e2008bc8-fd41-4822-a3d7-0c8164959459",
   "metadata": {
    "scrolled": true,
    "tags": []
   },
   "outputs": [
    {
     "name": "stdout",
     "output_type": "stream",
     "text": [
      "name INEOSGrenadiers\n",
      "text Heartbreak as Gianni was reeled in on the Carrefour de l'Arbre sector. He's battling on towards the Velodrome, sitt… https://t.co/xl6oblKhoS\n",
      "name mikegalsworthy\n",
      "text Is your Google broken, Guido? There’s a limited strike in the distribution centre of Carrefour in Belgium. \n",
      "\n",
      "Now ex… https://t.co/PV0TBAUtBq\n",
      "name mikegalsworthy\n",
      "text Oh - and it’s over already:\n",
      "\n",
      "“On Thursday morning, the strikers at the distribution centre of Kuehne+Nagel and Supe… https://t.co/WcP9WwuuzG\n",
      "name iforottawa\n",
      "text @mikemilne18 @JimWatsonOttawa @catherinekitts @Carrefour_Hub @TimTierney @mflalonde @StephenBlais @Laura_Dudas driv… https://t.co/v37lCXHBTv\n",
      "name joan31817819\n",
      "text Bag of the day.     \n",
      "\n",
      "Paragon bag from LULEA \n",
      "Find the bag at Carrefour Kenya \n",
      "\n",
      "#ootd #bag \n",
      "\n",
      "#facebookdown… https://t.co/5V5QUHqty8\n",
      "name esm_magazine\n",
      "text European Supermarket News is out! https://t.co/G4c77rz7RN #grocery #carrefour\n",
      "name __carrefour__\n",
      "text fucking mark zuckenberg https://t.co/1DWFteC2FD\n",
      "name bug_wug\n",
      "text @GardenerGary @buckelf @France24_en @FRANCE24 “…In the meantime, Carrefour shops across Belgium are still experienc… https://t.co/VOP29v8JVO\n",
      "name iforottawa\n",
      "text @StephenBlais @Carrefour_Hub @oaarchitects orchestrated for show eh...?\n",
      "name MeowMeow1983\n",
      "text @djse55 Ah, you've still got this tweet up?\n",
      "\n",
      "Hasn't anyone told you about those empty shelves in Brussels yet? 🤭\n",
      "\n",
      "https://t.co/JFIeE4tPHY\n",
      "name Kristo24131788\n",
      "text @StephenBlais @JimWatsonOttawa @Carrefour_Hub @TimTierney @catherinekitts @hopitalmontfort @mflalonde Bunch of usel… https://t.co/ivvtHYRjtQ\n",
      "name upperfeeny\n",
      "text @TimTierney @JimWatsonOttawa @Carrefour_Hub @StephenBlais Bravo to all. And also lovely to see my colleague Dr. Ber… https://t.co/xa0tNFTYmc\n",
      "name NickVWright1\n",
      "text @andyman1962uk @LBC @mrjamesob No, Andy, Europe does not also have empty shelves. Except for two shelves in Brussel… https://t.co/vOsC89I1ok\n",
      "name oaarchitects\n",
      "text Learn more about MPP @stephenblais chosen nominee, the @Carrefour_Hub, at https://t.co/tJFmY4I0yt #OAAQPP… https://t.co/dr1xslBYT3\n",
      "name oaarchitects\n",
      "text @StephenBlais @Carrefour_Hub Thank you for participating! It's a wonderful project and you can learn more at the li… https://t.co/yj5Ii8PKPB\n",
      "name VeganFacts_EN\n",
      "text @Gretchin_ @cjsturgis777 @NiaRichichi @RobRobbEdwards Hahaha, funny you just moved to spain as I am spanish, from V… https://t.co/yBXYorW392\n",
      "name HallworthNeil\n",
      "text @Holbornlolz @eric_hawkins9 From your linked article\n",
      "\n",
      "\"In the meantime, Carrefour shops across Belgium are still ex… https://t.co/s20UfztUJo\n",
      "name StephenBlais\n",
      "text What a special surprise! Congrats to @Carrefour_Hub in #Orléans for winning the @oaarchitects award for its state-o… https://t.co/XDUCQ0LeES\n",
      "name mikemilne18\n",
      "text @JimWatsonOttawa @catherinekitts @Carrefour_Hub @TimTierney @mflalonde @StephenBlais @Laura_Dudas Did you drive or take LRT Jimmy?\n",
      "name mikemilne18\n",
      "text @mflalonde @Carrefour_Hub @StephenBlais @YasmorRoda And then you immediately lowered it.\n",
      "name dr_w_o_b\n",
      "text @Hayes5Hayes @Andrew_Adonis Hi Chris. Belgium calling. Apart from Carrefour, where there is/was a strike, we have n… https://t.co/MXYHLGPj7p\n",
      "name buckelf\n",
      "text @GardenerGary @France24_en @FRANCE24 At least read your own articles. Scab 😉. Carrefour Belgium is struggling to su… https://t.co/AvAdM9oAWz\n",
      "name Riggs_martin\n",
      "text Today's winner of our competition \"how to make a fool of yourself on Twitter\" is chris ! He pretends there are shor… https://t.co/0qIqkYBvJ6\n",
      "name weele_cs\n",
      "text Sorting business notebooks last year row in cardboard box~📦\n",
      "- 21102, PM7:30/8:53-11:58\n",
      "Elo's birthday party🎂🎉🎉 at W… https://t.co/GX5tFv3b8z\n",
      "name yas_Im_that_guy\n",
      "text did I just went to monoprix la2an ma ele khele2 rouh 3a carrefour\n",
      "name askrispyasitget\n",
      "text @glutenhoe Carrefour is bouta get jumped less gooo\n",
      "name g_gosden\n",
      "text @penfolduk01 @jfmouthonlegs The Carrefour situation is due to a strike at ‘one’ distribution centre. The shortages… https://t.co/lAgVYTgzUW\n",
      "name m_alhammadi_ad\n",
      "text @CarrefourUAE @MajidAlFuttaim Carrefour  application is the worst application after update  I have Issue since two… https://t.co/Rid74Ek8RV\n",
      "name dougcopley5\n",
      "text @ABridgen Maybe something to do with a STRIKE at carrefour depots DO try to keep up tory boy\n",
      "name TimTierney\n",
      "text Today, with my eastern Councillors &amp; @JimWatsonOttawa, we were very happy to be @Carrefour_Hub's official inaugurat… https://t.co/q8Bdy4EUtm\n",
      "name iOlKAWA\n",
      "text fui facherisima al carrefour like y hago outfit reveal ahre\n",
      "name ccchenard\n",
      "text @JimWatsonOttawa @Carrefour_Hub @catherinekitts @TimTierney @mflalonde @StephenBlais @Laura_Dudas From @Carleton_U… https://t.co/VhYtoAWaeO\n",
      "name Becky_Nalepo\n",
      "text @AmJoseh I refuse and avoid them like a plague. Latest carrefour has an app where you get discounts. Even that I re… https://t.co/eaFzu3d4K1\n",
      "name Louis39527251\n",
      "text @Eva_DK_ @JJBaniston Nope.\n",
      "\n",
      "OFFICIAL SUPERMARKET MEAT POWER RANKING:\n",
      "1. Delhaize \n",
      "2. Renmans by Aldi\n",
      "3. Carrefour… https://t.co/wQ5TRdhj4n\n",
      "name hoseokbyulie\n",
      "text And that's on why I could never be an actor cus how tf does one stay professional after this while I still daydream… https://t.co/xgXMzfuiT1\n",
      "name iforottawa\n",
      "text @JimWatsonOttawa @Carrefour_Hub @catherinekitts @TimTierney @mflalonde @StephenBlais @Laura_Dudas yey more ribbon c… https://t.co/dvbBPYpOKE\n",
      "name KJackottawa\n",
      "text @JimWatsonOttawa @Carrefour_Hub @catherinekitts @TimTierney @mflalonde @StephenBlais @Laura_Dudas Sounds great. I l… https://t.co/y8o0xPHaKt\n",
      "name bergeron_kay\n",
      "text @JimWatsonOttawa @Carrefour_Hub @catherinekitts @TimTierney @mflalonde @StephenBlais @Laura_Dudas What we really ne… https://t.co/QawIrh6Flf\n",
      "name Eva_DK_\n",
      "text @JJBaniston Carrefour is erger, trust me\n",
      "name JimWatsonOttawa\n",
      "text Very happy to be at the official inauguration of @Carrefour_Hub. The Orléans Health Hub opened its doors on schedul… https://t.co/7fYevzSOUB\n",
      "name Ziaali816gmail1\n",
      "text Happy 26th carrefour anniversary https://t.co/1McAaykGfg\n",
      "name Estersyroyale\n",
      "text @Kurlycheeks It's been MIA? Always know I will find it at Carrefour\n",
      "name luralez\n",
      "text Cinemark - Carrefour Hermosillo. https://t.co/UQohyzsJES\n",
      "name nembashar\n",
      "text I just enjoyed a deal on #Carrefour with #SmilesByEtisalat. Enjoy great deals. Visit the Smiles app… https://t.co/twdhKaNgpE\n",
      "name WanjaWohoro\n",
      "text I swear to you I still have no idea how to get to Carrefour from the front entrance. https://t.co/5ShSRjp0Bm\n",
      "name hotplinth\n",
      "text @Paul_McCormick_ @theAliceRoberts Nothing to do with it France, no. And the problems in Belgium are very limited du… https://t.co/r5ycfyiUeH\n",
      "name mshgamed\n",
      "text Be careful she’s heading to Carrefour\n",
      "name NaeemullahBajwa\n",
      "text @CarrefourSaudi @MajidAlFuttaim Carrefour Jeddah offers by far the worst services when it comes to refunding custom… https://t.co/2OMwCMjFBV\n",
      "name NaeemullahBajwa\n",
      "text @CarrefourSaudi @hallao23 Carrefour Jeddah offers by far the worst services when it comes to refunding customers mo… https://t.co/bdWbEouiZF\n",
      "name StarNduta\n",
      "text @Kurlycheeks Also found them at Carrefour Two Rivers yesterday.\n"
     ]
    }
   ],
   "source": [
    "for tweet in tweets:\n",
    "    \n",
    "    print('name', tweet.user.screen_name)  \n",
    "    print('text', tweet.text)\n",
    "    analysis = Tb(tweet.text)\n",
    "    polarity = analysis.sentiment.polarity\n",
    "    tweets_score.append(polarity)  "
   ]
  },
  {
   "cell_type": "code",
   "execution_count": 17,
   "id": "0260bcd0-33d8-45e6-aada-8dcd8eab248e",
   "metadata": {},
   "outputs": [
    {
     "name": "stdout",
     "output_type": "stream",
     "text": [
      "Vetor de polaridade:  [0.0, -0.2357142857142857, 0.0, 0.0, 0.0, 0.0, -0.6, 0.0, 0.0, -0.1, 0.0, 0.5, -0.1, 0.5, 0.75, 0.15, 0.0, 0.4732142857142857, 0.0, 0.0, 0.0, 0.15, 0.0, 0.0, 0.0, -0.16666666666666666, -0.125, -1.0, 0.0, 1.0, 0.0, 0.0, 0.5, 0.0, 0.1, 0.5, 0.8, 0.2, 0.0, 1.0, 0.8, 0.0, 0.0, 0.5666666666666668, 0.0, -0.09285714285714286, -0.1, -0.26666666666666666, -0.26666666666666666, 0.0]\n"
     ]
    }
   ],
   "source": [
    "print('Vetor de polaridade: ' , tweets_score)"
   ]
  },
  {
   "cell_type": "code",
   "execution_count": 201,
   "id": "1a8ac39f-b0dd-4786-bd2f-105a21f19ff9",
   "metadata": {},
   "outputs": [
    {
     "name": "stdout",
     "output_type": "stream",
     "text": [
      "Média de Sentimento: -0.06366666666666668\n"
     ]
    }
   ],
   "source": [
    "print('Média de Sentimento: ' + str(np.mean(tweets_score)))"
   ]
  },
  {
   "cell_type": "markdown",
   "id": "e4ff196f-9876-49e8-b114-984ef8b8b085",
   "metadata": {},
   "source": [
    "## Armazenando tweets coletados"
   ]
  },
  {
   "cell_type": "markdown",
   "id": "53b10cb2-22ca-493f-b508-ae2c46e53ebb",
   "metadata": {},
   "source": [
    "### Salvando os dados no MongoDB"
   ]
  },
  {
   "cell_type": "code",
   "execution_count": 202,
   "id": "71ed69ee-709f-44c8-8072-f5c6a2edf9e5",
   "metadata": {},
   "outputs": [],
   "source": [
    "# importando o pacote pymongo \n",
    "import pymongo"
   ]
  },
  {
   "cell_type": "code",
   "execution_count": 203,
   "id": "e3aa78a7-f40c-40e6-b3c7-24817e49cb09",
   "metadata": {},
   "outputs": [],
   "source": [
    "# fazendo a conexão com o banco de dados\n",
    "con = pymongo.MongoClient('localhost', 27017)"
   ]
  },
  {
   "cell_type": "code",
   "execution_count": 204,
   "id": "39067ca3-8eb6-4724-b3ca-0364a97a80c8",
   "metadata": {},
   "outputs": [
    {
     "data": {
      "text/plain": [
       "MongoClient(host=['localhost:27017'], document_class=dict, tz_aware=False, connect=True)"
      ]
     },
     "execution_count": 204,
     "metadata": {},
     "output_type": "execute_result"
    }
   ],
   "source": [
    "# verificando o status da conexão\n",
    "con"
   ]
  },
  {
   "cell_type": "code",
   "execution_count": 205,
   "id": "a753404e-25f4-475b-8b33-03066de3367f",
   "metadata": {},
   "outputs": [
    {
     "data": {
      "text/plain": [
       "['admin', 'config', 'local', 'twitterdb']"
      ]
     },
     "execution_count": 205,
     "metadata": {},
     "output_type": "execute_result"
    }
   ],
   "source": [
    "# verificando a lista de bancos já criados\n",
    "con.list_database_names()"
   ]
  },
  {
   "cell_type": "code",
   "execution_count": 206,
   "id": "6a53d970-e8ae-40b1-9375-398d91af1ef7",
   "metadata": {},
   "outputs": [],
   "source": [
    "#selecionando o banco de dados que irei utilizar\n",
    "db = con.twitterdb"
   ]
  },
  {
   "cell_type": "code",
   "execution_count": 207,
   "id": "b4710fb7-2762-4578-a326-ced062e9b33b",
   "metadata": {},
   "outputs": [],
   "source": [
    "#selecionando a coleção para salvar os dados\n",
    "collection = db.tweets_salvos"
   ]
  },
  {
   "cell_type": "code",
   "execution_count": 208,
   "id": "95f0b298-68e4-420a-8dbf-e1de0859ff83",
   "metadata": {},
   "outputs": [
    {
     "data": {
      "text/plain": [
       "0"
      ]
     },
     "execution_count": 208,
     "metadata": {},
     "output_type": "execute_result"
    }
   ],
   "source": [
    "db.tweets_salvos.count_documents({})"
   ]
  },
  {
   "cell_type": "code",
   "execution_count": 209,
   "id": "b8c2dea5-1087-424b-ba6c-e1acfb263e18",
   "metadata": {},
   "outputs": [],
   "source": [
    "i = 0\n",
    "for tweet in tweets:\n",
    "     db.tweets_salvos.insert_one(tweet._json)\n",
    "     i= i+1"
   ]
  },
  {
   "cell_type": "code",
   "execution_count": 210,
   "id": "159b9012-e432-47ca-a55d-34f3a7293a6c",
   "metadata": {},
   "outputs": [
    {
     "name": "stdout",
     "output_type": "stream",
     "text": [
      "50\n"
     ]
    }
   ],
   "source": [
    "#lista a quantidade tweets inseridos na coleção\n",
    "print(i)"
   ]
  },
  {
   "cell_type": "markdown",
   "id": "a1861e61-9833-4c51-8b66-c9cba08f022c",
   "metadata": {},
   "source": [
    "## Criando um dataset com os dados para análise"
   ]
  },
  {
   "cell_type": "code",
   "execution_count": 9,
   "id": "ee7fb3ec-d141-436c-b0ac-40c480d96172",
   "metadata": {},
   "outputs": [],
   "source": [
    "import pandas as pd"
   ]
  },
  {
   "cell_type": "code",
   "execution_count": 10,
   "id": "82067d80-aa1c-4e2a-b32c-8c6e7ec4d71e",
   "metadata": {},
   "outputs": [],
   "source": [
    "#Lendo o Arquivo que foi exportado em csv\n",
    "polaridades = pd.read_csv(\"tweets_salvos.csv\", sep=\",\")"
   ]
  },
  {
   "cell_type": "code",
   "execution_count": 11,
   "id": "497d2940-81e0-45d1-a069-67f743f85ba1",
   "metadata": {},
   "outputs": [
    {
     "data": {
      "text/plain": [
       "array(['id', 'text', 'user.screen_name'], dtype=object)"
      ]
     },
     "execution_count": 11,
     "metadata": {},
     "output_type": "execute_result"
    }
   ],
   "source": [
    "#Vendo quais os nomes das colunas \n",
    "polaridades.columns.values"
   ]
  },
  {
   "cell_type": "code",
   "execution_count": 12,
   "id": "d256fe2e-d42c-4010-bed5-cc80bbc70c14",
   "metadata": {},
   "outputs": [],
   "source": [
    "# selecionando apenas as colunas que tem Nome do usuário e o texto do tweet\n",
    "polaridadesRes = ['user.screen_name', 'text']"
   ]
  },
  {
   "cell_type": "code",
   "execution_count": 13,
   "id": "75e7ffcd-91f6-45e1-8ba6-43ccab52d29b",
   "metadata": {},
   "outputs": [
    {
     "data": {
      "text/html": [
       "<div>\n",
       "<style scoped>\n",
       "    .dataframe tbody tr th:only-of-type {\n",
       "        vertical-align: middle;\n",
       "    }\n",
       "\n",
       "    .dataframe tbody tr th {\n",
       "        vertical-align: top;\n",
       "    }\n",
       "\n",
       "    .dataframe thead th {\n",
       "        text-align: right;\n",
       "    }\n",
       "</style>\n",
       "<table border=\"1\" class=\"dataframe\">\n",
       "  <thead>\n",
       "    <tr style=\"text-align: right;\">\n",
       "      <th></th>\n",
       "      <th>user.screen_name</th>\n",
       "      <th>text</th>\n",
       "    </tr>\n",
       "  </thead>\n",
       "  <tbody>\n",
       "    <tr>\n",
       "      <th>0</th>\n",
       "      <td>CPeutat</td>\n",
       "      <td>@James7Holland This is due to a strike action ...</td>\n",
       "    </tr>\n",
       "    <tr>\n",
       "      <th>1</th>\n",
       "      <td>JimButNotJim</td>\n",
       "      <td>@James7Holland Gaslighting much? This is Carre...</td>\n",
       "    </tr>\n",
       "    <tr>\n",
       "      <th>2</th>\n",
       "      <td>BridgetBurke2</td>\n",
       "      <td>@toryboypierce https://t.co/GgwBACh2as\\nStrike...</td>\n",
       "    </tr>\n",
       "    <tr>\n",
       "      <th>3</th>\n",
       "      <td>paulypauluk</td>\n",
       "      <td>@CllrFareham Context. Carrefour distribution c...</td>\n",
       "    </tr>\n",
       "    <tr>\n",
       "      <th>4</th>\n",
       "      <td>rik10002</td>\n",
       "      <td>@Matt_VickersMP @ChrisClarksonMP @ChrisClarkso...</td>\n",
       "    </tr>\n",
       "  </tbody>\n",
       "</table>\n",
       "</div>"
      ],
      "text/plain": [
       "  user.screen_name                                               text\n",
       "0          CPeutat  @James7Holland This is due to a strike action ...\n",
       "1     JimButNotJim  @James7Holland Gaslighting much? This is Carre...\n",
       "2    BridgetBurke2  @toryboypierce https://t.co/GgwBACh2as\\nStrike...\n",
       "3      paulypauluk  @CllrFareham Context. Carrefour distribution c...\n",
       "4         rik10002  @Matt_VickersMP @ChrisClarksonMP @ChrisClarkso..."
      ]
     },
     "execution_count": 13,
     "metadata": {},
     "output_type": "execute_result"
    }
   ],
   "source": [
    "# criando um dataframe com apenas as colunas selecionadas\n",
    "dfFinal = polaridades.filter(items=polaridadesRes)\n",
    "dfFinal.head()"
   ]
  },
  {
   "cell_type": "code",
   "execution_count": 18,
   "id": "736b3442-15d8-4cfc-85bf-1c8768d0d71c",
   "metadata": {},
   "outputs": [
    {
     "name": "stdout",
     "output_type": "stream",
     "text": [
      "Vetor de polaridade:  [0.0, -0.2357142857142857, 0.0, 0.0, 0.0, 0.0, -0.6, 0.0, 0.0, -0.1, 0.0, 0.5, -0.1, 0.5, 0.75, 0.15, 0.0, 0.4732142857142857, 0.0, 0.0, 0.0, 0.15, 0.0, 0.0, 0.0, -0.16666666666666666, -0.125, -1.0, 0.0, 1.0, 0.0, 0.0, 0.5, 0.0, 0.1, 0.5, 0.8, 0.2, 0.0, 1.0, 0.8, 0.0, 0.0, 0.5666666666666668, 0.0, -0.09285714285714286, -0.1, -0.26666666666666666, -0.26666666666666666, 0.0]\n"
     ]
    }
   ],
   "source": [
    "print('Vetor de polaridade: ' , tweets_score)"
   ]
  },
  {
   "cell_type": "code",
   "execution_count": 19,
   "id": "c5b849e3-eaa2-43bd-b75c-13d49fe287f6",
   "metadata": {},
   "outputs": [],
   "source": [
    "dfContat=dfFinal.assign(Polarity=tweets_score)"
   ]
  },
  {
   "cell_type": "code",
   "execution_count": 20,
   "id": "8947019e-2ca8-41f2-998c-93e8cdaf48d6",
   "metadata": {},
   "outputs": [
    {
     "data": {
      "text/html": [
       "<div>\n",
       "<style scoped>\n",
       "    .dataframe tbody tr th:only-of-type {\n",
       "        vertical-align: middle;\n",
       "    }\n",
       "\n",
       "    .dataframe tbody tr th {\n",
       "        vertical-align: top;\n",
       "    }\n",
       "\n",
       "    .dataframe thead th {\n",
       "        text-align: right;\n",
       "    }\n",
       "</style>\n",
       "<table border=\"1\" class=\"dataframe\">\n",
       "  <thead>\n",
       "    <tr style=\"text-align: right;\">\n",
       "      <th></th>\n",
       "      <th>user.screen_name</th>\n",
       "      <th>text</th>\n",
       "      <th>Polarity</th>\n",
       "    </tr>\n",
       "  </thead>\n",
       "  <tbody>\n",
       "    <tr>\n",
       "      <th>0</th>\n",
       "      <td>CPeutat</td>\n",
       "      <td>@James7Holland This is due to a strike action ...</td>\n",
       "      <td>0.000000</td>\n",
       "    </tr>\n",
       "    <tr>\n",
       "      <th>1</th>\n",
       "      <td>JimButNotJim</td>\n",
       "      <td>@James7Holland Gaslighting much? This is Carre...</td>\n",
       "      <td>-0.235714</td>\n",
       "    </tr>\n",
       "    <tr>\n",
       "      <th>2</th>\n",
       "      <td>BridgetBurke2</td>\n",
       "      <td>@toryboypierce https://t.co/GgwBACh2as\\nStrike...</td>\n",
       "      <td>0.000000</td>\n",
       "    </tr>\n",
       "    <tr>\n",
       "      <th>3</th>\n",
       "      <td>paulypauluk</td>\n",
       "      <td>@CllrFareham Context. Carrefour distribution c...</td>\n",
       "      <td>0.000000</td>\n",
       "    </tr>\n",
       "    <tr>\n",
       "      <th>4</th>\n",
       "      <td>rik10002</td>\n",
       "      <td>@Matt_VickersMP @ChrisClarksonMP @ChrisClarkso...</td>\n",
       "      <td>0.000000</td>\n",
       "    </tr>\n",
       "    <tr>\n",
       "      <th>5</th>\n",
       "      <td>mrscorer</td>\n",
       "      <td>@mathewwales92 They know...\\nMore likely a str...</td>\n",
       "      <td>0.000000</td>\n",
       "    </tr>\n",
       "    <tr>\n",
       "      <th>6</th>\n",
       "      <td>mrscorer</td>\n",
       "      <td>@BrianAuld3 More likely a strike at a carrefou...</td>\n",
       "      <td>-0.600000</td>\n",
       "    </tr>\n",
       "    <tr>\n",
       "      <th>7</th>\n",
       "      <td>1487f093q7huweo</td>\n",
       "      <td>@BoyCharioteer @MartinDaubney the Carrefour st...</td>\n",
       "      <td>0.000000</td>\n",
       "    </tr>\n",
       "    <tr>\n",
       "      <th>8</th>\n",
       "      <td>InlimboV</td>\n",
       "      <td>@toryboypierce Rubbish. It's a local issue due...</td>\n",
       "      <td>0.000000</td>\n",
       "    </tr>\n",
       "    <tr>\n",
       "      <th>9</th>\n",
       "      <td>david_pickworth</td>\n",
       "      <td>@mrjamesob @andigill @James7Holland Here’s the...</td>\n",
       "      <td>-0.100000</td>\n",
       "    </tr>\n",
       "    <tr>\n",
       "      <th>10</th>\n",
       "      <td>JoyceGo23256991</td>\n",
       "      <td>@hardlyperennial @PeteWishart Due to a strike ...</td>\n",
       "      <td>0.000000</td>\n",
       "    </tr>\n",
       "    <tr>\n",
       "      <th>11</th>\n",
       "      <td>tonykentkyazze</td>\n",
       "      <td>@laban_256 @SourceGarland @MukundaneAble @Shif...</td>\n",
       "      <td>0.500000</td>\n",
       "    </tr>\n",
       "    <tr>\n",
       "      <th>12</th>\n",
       "      <td>bettyboom41</td>\n",
       "      <td>@Leafhuntress @jcs216 @DanHowdle Don;t be so r...</td>\n",
       "      <td>-0.100000</td>\n",
       "    </tr>\n",
       "    <tr>\n",
       "      <th>13</th>\n",
       "      <td>Manoj316</td>\n",
       "      <td>Faced a rude and racist cashier today Carrefou...</td>\n",
       "      <td>0.500000</td>\n",
       "    </tr>\n",
       "    <tr>\n",
       "      <th>14</th>\n",
       "      <td>hoodscroft</td>\n",
       "      <td>@hallofthor @timloughton The strike affecting ...</td>\n",
       "      <td>0.750000</td>\n",
       "    </tr>\n",
       "    <tr>\n",
       "      <th>15</th>\n",
       "      <td>PieroTi1971</td>\n",
       "      <td>@toryboypierce \"Empty shelves at Carrefour due...</td>\n",
       "      <td>0.150000</td>\n",
       "    </tr>\n",
       "    <tr>\n",
       "      <th>16</th>\n",
       "      <td>StuartC83974152</td>\n",
       "      <td>@andyblueskyz @Dawesomedawson @HansNiesund @to...</td>\n",
       "      <td>0.000000</td>\n",
       "    </tr>\n",
       "    <tr>\n",
       "      <th>17</th>\n",
       "      <td>JimButNotJim</td>\n",
       "      <td>@stoner1968 @James7Holland @MichelBarnier @guy...</td>\n",
       "      <td>0.473214</td>\n",
       "    </tr>\n",
       "    <tr>\n",
       "      <th>18</th>\n",
       "      <td>HelenMagi</td>\n",
       "      <td>@EuroGuido Easy with a bit of research. \\n\\nNe...</td>\n",
       "      <td>0.000000</td>\n",
       "    </tr>\n",
       "    <tr>\n",
       "      <th>19</th>\n",
       "      <td>AndrewWilliaaf</td>\n",
       "      <td>@James7Holland It’s a strike at Carrefour dist...</td>\n",
       "      <td>0.000000</td>\n",
       "    </tr>\n",
       "    <tr>\n",
       "      <th>20</th>\n",
       "      <td>PieroTi1971</td>\n",
       "      <td>@darrengrimes_ \"Empty shelves at Carrefour due...</td>\n",
       "      <td>0.000000</td>\n",
       "    </tr>\n",
       "    <tr>\n",
       "      <th>21</th>\n",
       "      <td>bettyboom41</td>\n",
       "      <td>@Leafhuntress @jcs216 @DanHowdle I am not disa...</td>\n",
       "      <td>0.150000</td>\n",
       "    </tr>\n",
       "    <tr>\n",
       "      <th>22</th>\n",
       "      <td>PieroTi1971</td>\n",
       "      <td>@James7Holland \"Empty shelves at Carrefour due...</td>\n",
       "      <td>0.000000</td>\n",
       "    </tr>\n",
       "    <tr>\n",
       "      <th>23</th>\n",
       "      <td>C0NSERVATIVESuk</td>\n",
       "      <td>We would like to thank our supporters for tryi...</td>\n",
       "      <td>0.000000</td>\n",
       "    </tr>\n",
       "    <tr>\n",
       "      <th>24</th>\n",
       "      <td>DeclanWalker28</td>\n",
       "      <td>@Hilton1991 Due to warehouse strikes in Belgiu...</td>\n",
       "      <td>0.000000</td>\n",
       "    </tr>\n",
       "    <tr>\n",
       "      <th>25</th>\n",
       "      <td>TonyGagliardi4</td>\n",
       "      <td>How embarrassing for Vickers...2 day strike at...</td>\n",
       "      <td>-0.166667</td>\n",
       "    </tr>\n",
       "    <tr>\n",
       "      <th>26</th>\n",
       "      <td>OCCUPY_ALB_PARL</td>\n",
       "      <td>@julianHjessop Yes and you are lying 😂 https:/...</td>\n",
       "      <td>-0.125000</td>\n",
       "    </tr>\n",
       "    <tr>\n",
       "      <th>27</th>\n",
       "      <td>EyckThe</td>\n",
       "      <td>@toryboypierce The strike is over https://t.co...</td>\n",
       "      <td>-1.000000</td>\n",
       "    </tr>\n",
       "    <tr>\n",
       "      <th>28</th>\n",
       "      <td>EyckThe</td>\n",
       "      <td>@MatteaPatron @DailyMailUK It’s a strike. They...</td>\n",
       "      <td>0.000000</td>\n",
       "    </tr>\n",
       "    <tr>\n",
       "      <th>29</th>\n",
       "      <td>Pat_O_Tuathail</td>\n",
       "      <td>@DavidPNoble63 It was in the Brussels Times on...</td>\n",
       "      <td>1.000000</td>\n",
       "    </tr>\n",
       "    <tr>\n",
       "      <th>30</th>\n",
       "      <td>Leafhuntress</td>\n",
       "      <td>@bettyboom41 @jcs216 @DanHowdle Easily googled...</td>\n",
       "      <td>0.000000</td>\n",
       "    </tr>\n",
       "    <tr>\n",
       "      <th>31</th>\n",
       "      <td>NicolG79042375</td>\n",
       "      <td>@Matt_VickersMP Check your facts,strike at Car...</td>\n",
       "      <td>0.000000</td>\n",
       "    </tr>\n",
       "    <tr>\n",
       "      <th>32</th>\n",
       "      <td>neilshanks63</td>\n",
       "      <td>@SnpNot @FlapZappa @devisridhar @AngusRobertso...</td>\n",
       "      <td>0.500000</td>\n",
       "    </tr>\n",
       "    <tr>\n",
       "      <th>33</th>\n",
       "      <td>PlanetZuma</td>\n",
       "      <td>@CllrDicicco @Kraml18 @MichelBarnier Look, it'...</td>\n",
       "      <td>0.000000</td>\n",
       "    </tr>\n",
       "    <tr>\n",
       "      <th>34</th>\n",
       "      <td>nick_will1972</td>\n",
       "      <td>@Bluwhitehoops @NicholasTyrone @SarahLudford p...</td>\n",
       "      <td>0.100000</td>\n",
       "    </tr>\n",
       "    <tr>\n",
       "      <th>35</th>\n",
       "      <td>FunkoEurope</td>\n",
       "      <td>Mini Puft w/ Weight\\n🇬🇧🇪🇺 https://t.co/FCB2Dq6...</td>\n",
       "      <td>0.500000</td>\n",
       "    </tr>\n",
       "    <tr>\n",
       "      <th>36</th>\n",
       "      <td>gordoncraig11</td>\n",
       "      <td>@Matt_VickersMP It's really very simple. As al...</td>\n",
       "      <td>0.800000</td>\n",
       "    </tr>\n",
       "    <tr>\n",
       "      <th>37</th>\n",
       "      <td>likesretirement</td>\n",
       "      <td>Just in case anyone actually believed the #Fak...</td>\n",
       "      <td>0.200000</td>\n",
       "    </tr>\n",
       "    <tr>\n",
       "      <th>38</th>\n",
       "      <td>DrNostromo</td>\n",
       "      <td>Carrefour ?? Oh this is just getting silly now</td>\n",
       "      <td>0.000000</td>\n",
       "    </tr>\n",
       "    <tr>\n",
       "      <th>39</th>\n",
       "      <td>Adrianfstrain</td>\n",
       "      <td>@Fox_Claire\\nEmpty shelves: Carrefour Belgium ...</td>\n",
       "      <td>1.000000</td>\n",
       "    </tr>\n",
       "    <tr>\n",
       "      <th>40</th>\n",
       "      <td>Talenteduser</td>\n",
       "      <td>@AscendedView it’s due to a strike in Brussels...</td>\n",
       "      <td>0.800000</td>\n",
       "    </tr>\n",
       "    <tr>\n",
       "      <th>41</th>\n",
       "      <td>zechenbaron</td>\n",
       "      <td>@Musicals_Minion @oiyouandy @R3M386 @FreddieBa...</td>\n",
       "      <td>0.000000</td>\n",
       "    </tr>\n",
       "    <tr>\n",
       "      <th>42</th>\n",
       "      <td>Adrianfstrain</td>\n",
       "      <td>@Fox_Claire Strike is warehouse serving Carref...</td>\n",
       "      <td>0.000000</td>\n",
       "    </tr>\n",
       "    <tr>\n",
       "      <th>43</th>\n",
       "      <td>likesretirement</td>\n",
       "      <td>Dear @DailyExpressRB \\nThis is of course #Fake...</td>\n",
       "      <td>0.566667</td>\n",
       "    </tr>\n",
       "    <tr>\n",
       "      <th>44</th>\n",
       "      <td>nick_will1972</td>\n",
       "      <td>@marenbennette @NicholasTyrone Stop the lies\\n...</td>\n",
       "      <td>0.000000</td>\n",
       "    </tr>\n",
       "    <tr>\n",
       "      <th>45</th>\n",
       "      <td>Talenteduser</td>\n",
       "      <td>@toryboypierce it’s due to a strike in Brussel...</td>\n",
       "      <td>-0.092857</td>\n",
       "    </tr>\n",
       "    <tr>\n",
       "      <th>46</th>\n",
       "      <td>Talenteduser</td>\n",
       "      <td>@James7Holland A strike you idiot - it’s due t...</td>\n",
       "      <td>-0.100000</td>\n",
       "    </tr>\n",
       "    <tr>\n",
       "      <th>47</th>\n",
       "      <td>Fan_DuTour</td>\n",
       "      <td>Hans Niesund  @HansNiesund \\n\"No. It's a strik...</td>\n",
       "      <td>-0.266667</td>\n",
       "    </tr>\n",
       "    <tr>\n",
       "      <th>48</th>\n",
       "      <td>nick_will1972</td>\n",
       "      <td>@nimrodog @NicholasTyrone Please stop the lies...</td>\n",
       "      <td>-0.266667</td>\n",
       "    </tr>\n",
       "    <tr>\n",
       "      <th>49</th>\n",
       "      <td>amtahmina67</td>\n",
       "      <td>Inbox me\\nhttps://t.co/RalrCqE09R\\n\\n#GirlsPla...</td>\n",
       "      <td>0.000000</td>\n",
       "    </tr>\n",
       "  </tbody>\n",
       "</table>\n",
       "</div>"
      ],
      "text/plain": [
       "   user.screen_name                                               text  \\\n",
       "0           CPeutat  @James7Holland This is due to a strike action ...   \n",
       "1      JimButNotJim  @James7Holland Gaslighting much? This is Carre...   \n",
       "2     BridgetBurke2  @toryboypierce https://t.co/GgwBACh2as\\nStrike...   \n",
       "3       paulypauluk  @CllrFareham Context. Carrefour distribution c...   \n",
       "4          rik10002  @Matt_VickersMP @ChrisClarksonMP @ChrisClarkso...   \n",
       "5          mrscorer  @mathewwales92 They know...\\nMore likely a str...   \n",
       "6          mrscorer  @BrianAuld3 More likely a strike at a carrefou...   \n",
       "7   1487f093q7huweo  @BoyCharioteer @MartinDaubney the Carrefour st...   \n",
       "8          InlimboV  @toryboypierce Rubbish. It's a local issue due...   \n",
       "9   david_pickworth  @mrjamesob @andigill @James7Holland Here’s the...   \n",
       "10  JoyceGo23256991  @hardlyperennial @PeteWishart Due to a strike ...   \n",
       "11   tonykentkyazze  @laban_256 @SourceGarland @MukundaneAble @Shif...   \n",
       "12      bettyboom41  @Leafhuntress @jcs216 @DanHowdle Don;t be so r...   \n",
       "13         Manoj316  Faced a rude and racist cashier today Carrefou...   \n",
       "14       hoodscroft  @hallofthor @timloughton The strike affecting ...   \n",
       "15      PieroTi1971  @toryboypierce \"Empty shelves at Carrefour due...   \n",
       "16  StuartC83974152  @andyblueskyz @Dawesomedawson @HansNiesund @to...   \n",
       "17     JimButNotJim  @stoner1968 @James7Holland @MichelBarnier @guy...   \n",
       "18        HelenMagi  @EuroGuido Easy with a bit of research. \\n\\nNe...   \n",
       "19   AndrewWilliaaf  @James7Holland It’s a strike at Carrefour dist...   \n",
       "20      PieroTi1971  @darrengrimes_ \"Empty shelves at Carrefour due...   \n",
       "21      bettyboom41  @Leafhuntress @jcs216 @DanHowdle I am not disa...   \n",
       "22      PieroTi1971  @James7Holland \"Empty shelves at Carrefour due...   \n",
       "23  C0NSERVATIVESuk  We would like to thank our supporters for tryi...   \n",
       "24   DeclanWalker28  @Hilton1991 Due to warehouse strikes in Belgiu...   \n",
       "25   TonyGagliardi4  How embarrassing for Vickers...2 day strike at...   \n",
       "26  OCCUPY_ALB_PARL  @julianHjessop Yes and you are lying 😂 https:/...   \n",
       "27          EyckThe  @toryboypierce The strike is over https://t.co...   \n",
       "28          EyckThe  @MatteaPatron @DailyMailUK It’s a strike. They...   \n",
       "29   Pat_O_Tuathail  @DavidPNoble63 It was in the Brussels Times on...   \n",
       "30     Leafhuntress  @bettyboom41 @jcs216 @DanHowdle Easily googled...   \n",
       "31   NicolG79042375  @Matt_VickersMP Check your facts,strike at Car...   \n",
       "32     neilshanks63  @SnpNot @FlapZappa @devisridhar @AngusRobertso...   \n",
       "33       PlanetZuma  @CllrDicicco @Kraml18 @MichelBarnier Look, it'...   \n",
       "34    nick_will1972  @Bluwhitehoops @NicholasTyrone @SarahLudford p...   \n",
       "35      FunkoEurope  Mini Puft w/ Weight\\n🇬🇧🇪🇺 https://t.co/FCB2Dq6...   \n",
       "36    gordoncraig11  @Matt_VickersMP It's really very simple. As al...   \n",
       "37  likesretirement  Just in case anyone actually believed the #Fak...   \n",
       "38       DrNostromo     Carrefour ?? Oh this is just getting silly now   \n",
       "39    Adrianfstrain  @Fox_Claire\\nEmpty shelves: Carrefour Belgium ...   \n",
       "40     Talenteduser  @AscendedView it’s due to a strike in Brussels...   \n",
       "41      zechenbaron  @Musicals_Minion @oiyouandy @R3M386 @FreddieBa...   \n",
       "42    Adrianfstrain  @Fox_Claire Strike is warehouse serving Carref...   \n",
       "43  likesretirement  Dear @DailyExpressRB \\nThis is of course #Fake...   \n",
       "44    nick_will1972  @marenbennette @NicholasTyrone Stop the lies\\n...   \n",
       "45     Talenteduser  @toryboypierce it’s due to a strike in Brussel...   \n",
       "46     Talenteduser  @James7Holland A strike you idiot - it’s due t...   \n",
       "47       Fan_DuTour  Hans Niesund  @HansNiesund \\n\"No. It's a strik...   \n",
       "48    nick_will1972  @nimrodog @NicholasTyrone Please stop the lies...   \n",
       "49      amtahmina67  Inbox me\\nhttps://t.co/RalrCqE09R\\n\\n#GirlsPla...   \n",
       "\n",
       "    Polarity  \n",
       "0   0.000000  \n",
       "1  -0.235714  \n",
       "2   0.000000  \n",
       "3   0.000000  \n",
       "4   0.000000  \n",
       "5   0.000000  \n",
       "6  -0.600000  \n",
       "7   0.000000  \n",
       "8   0.000000  \n",
       "9  -0.100000  \n",
       "10  0.000000  \n",
       "11  0.500000  \n",
       "12 -0.100000  \n",
       "13  0.500000  \n",
       "14  0.750000  \n",
       "15  0.150000  \n",
       "16  0.000000  \n",
       "17  0.473214  \n",
       "18  0.000000  \n",
       "19  0.000000  \n",
       "20  0.000000  \n",
       "21  0.150000  \n",
       "22  0.000000  \n",
       "23  0.000000  \n",
       "24  0.000000  \n",
       "25 -0.166667  \n",
       "26 -0.125000  \n",
       "27 -1.000000  \n",
       "28  0.000000  \n",
       "29  1.000000  \n",
       "30  0.000000  \n",
       "31  0.000000  \n",
       "32  0.500000  \n",
       "33  0.000000  \n",
       "34  0.100000  \n",
       "35  0.500000  \n",
       "36  0.800000  \n",
       "37  0.200000  \n",
       "38  0.000000  \n",
       "39  1.000000  \n",
       "40  0.800000  \n",
       "41  0.000000  \n",
       "42  0.000000  \n",
       "43  0.566667  \n",
       "44  0.000000  \n",
       "45 -0.092857  \n",
       "46 -0.100000  \n",
       "47 -0.266667  \n",
       "48 -0.266667  \n",
       "49  0.000000  "
      ]
     },
     "execution_count": 20,
     "metadata": {},
     "output_type": "execute_result"
    }
   ],
   "source": [
    "dfContat"
   ]
  },
  {
   "cell_type": "code",
   "execution_count": 21,
   "id": "6de81326-1e8b-484d-99aa-94d255b81919",
   "metadata": {},
   "outputs": [],
   "source": [
    "# Salvando arquivo csv para criar visualização.\n",
    "dfContat.to_csv(\"dfPolarity.csv\",sep=\";\")"
   ]
  },
  {
   "cell_type": "markdown",
   "id": "ce41c2e5-817c-4a09-83bb-b0e8d90b733d",
   "metadata": {},
   "source": [
    "### Criando alguns gráficos para análise"
   ]
  },
  {
   "cell_type": "code",
   "execution_count": 24,
   "id": "209aa73c-2067-495c-9729-7c907c6181bb",
   "metadata": {},
   "outputs": [],
   "source": [
    "import matplotlib.pyplot as plt"
   ]
  },
  {
   "cell_type": "code",
   "execution_count": 25,
   "id": "7706f55f-bc27-4f35-ae38-e13e8a6a5f94",
   "metadata": {},
   "outputs": [],
   "source": [
    "n = dfContat['user.screen_name']\n",
    "p = dfContat['Polarity']"
   ]
  },
  {
   "cell_type": "code",
   "execution_count": 221,
   "id": "246027ff-95ad-4ee8-9028-cd003b2fde9f",
   "metadata": {},
   "outputs": [],
   "source": [
    "plt.style.use('seaborn')"
   ]
  },
  {
   "cell_type": "code",
   "execution_count": 222,
   "id": "9b4cc220-a430-4a0c-a2e4-6218e1069da6",
   "metadata": {
    "tags": []
   },
   "outputs": [
    {
     "data": {
      "image/png": "[encoded data removed]",
      "text/plain": [
       "<Figure size 576x396 with 1 Axes>"
      ]
     },
     "metadata": {},
     "output_type": "display_data"
    }
   ],
   "source": [
    "plt.style.use('seaborn')\n",
    "plt.plot(p)\n",
    "plt.title('Análise de polaridade')\n",
    "plt.ylabel('Polaridades')\n",
    "plt.show()"
   ]
  },
  {
   "cell_type": "code",
   "execution_count": 47,
   "id": "85d3a5f5-3a6a-414c-b0fd-cb7dbecbec8c",
   "metadata": {},
   "outputs": [
    {
     "data": {
      "image/png": "[encoded data removed]",
      "text/plain": [
       "<Figure size 576x396 with 1 Axes>"
      ]
     },
     "metadata": {},
     "output_type": "display_data"
    }
   ],
   "source": [
    "plt.style.use('seaborn')\n",
    "plt.hist(p)\n",
    "plt.title('Análise de polaridade')\n",
    "plt.xlabel('Polaridades')\n",
    "plt.show()"
   ]
  },
  {
   "cell_type": "code",
   "execution_count": 54,
   "id": "299c3b0a-fb3b-4ce0-a3f8-7dd7c32ee64c",
   "metadata": {},
   "outputs": [
    {
     "data": {
      "image/png": "[encoded data removed]",
      "text/plain": [
       "<Figure size 576x1152 with 1 Axes>"
      ]
     },
     "metadata": {},
     "output_type": "display_data"
    }
   ],
   "source": [
    "plt.style.use('seaborn')\n",
    "plt.scatter(p,n)\n",
    "plt.title('Análise de polaridade')\n",
    "plt.ylabel('Usuários')\n",
    "plt.xlabel('Polaridades')\n",
    "plt.gcf().set_size_inches(8, 16)\n",
    "plt.show()"
   ]
  },
  {
   "cell_type": "code",
   "execution_count": null,
   "id": "5f077c23-5605-4ae3-b583-6135f2f574c7",
   "metadata": {},
   "outputs": [],
   "source": []
  },
  {
   "cell_type": "code",
   "execution_count": null,
   "id": "57db1f0d-5e07-4495-9e07-72cfc47e8002",
   "metadata": {},
   "outputs": [],
   "source": []
  }
 ],
 "metadata": {
  "kernelspec": {
   "display_name": "Python 3",
   "language": "python",
   "name": "python3"
  },
  "language_info": {
   "codemirror_mode": {
    "name": "ipython",
    "version": 3
   },
   "file_extension": ".py",
   "mimetype": "text/x-python",
   "name": "python",
   "nbconvert_exporter": "python",
   "pygments_lexer": "ipython3",
   "version": "3.8.8"
  }
 },
 "nbformat": 4,
 "nbformat_minor": 5
}
