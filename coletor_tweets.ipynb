{
 "cells": [
  {
   "cell_type": "code",
   "execution_count": 11,
   "id": "63b0237d-80f5-4190-86a8-d08a52e0b171",
   "metadata": {},
   "outputs": [],
   "source": [
    "# importação da biblioteca para acessar o twitter.\n",
    "import tweepy"
   ]
  },
  {
   "cell_type": "code",
   "execution_count": 12,
   "id": "6e253ced-751c-406d-93bc-d97768982165",
   "metadata": {},
   "outputs": [],
   "source": [
    "# estou acessando as chaves (que estão salvas outro arquivo chamado token, dentro da pasta config) \n",
    "# disponiblizadas pelo Twitter para acessar a API.\n",
    "from config.token import consumer_secret, consumer_key, access_token_secret, access_token"
   ]
  },
  {
   "cell_type": "code",
   "execution_count": 13,
   "id": "287e1180-1d2f-439d-a736-5d6a24bcca1a",
   "metadata": {},
   "outputs": [],
   "source": [
    "# estou fazendo a autenticação das chaves para acessar a API\n",
    "auth = tweepy.OAuthHandler(consumer_key, consumer_secret)\n",
    "auth.set_access_token(access_token, access_token_secret)\n",
    "api = tweepy.API(auth)"
   ]
  },
  {
   "cell_type": "code",
   "execution_count": 14,
   "id": "9512de0b-de65-454f-803f-d78a1abc6101",
   "metadata": {},
   "outputs": [],
   "source": [
    "\n",
    "BRAZIL_WOE_ID = 23424768\n",
    "\n",
    "brazil_trends = api.trends_place(BRAZIL_WOE_ID)\n",
    "\n",
    "trends = json.loads(json.dumps(brazil_trends, indent=1))"
   ]
  },
  {
   "cell_type": "code",
   "execution_count": null,
   "id": "29c639fc-2994-4ba8-bca8-923599410add",
   "metadata": {
    "scrolled": true,
    "tags": []
   },
   "outputs": [],
   "source": [
    "for trend in trends[0][\"trends\"]:\n",
    "    print(trend[\"name\"].strip(\"#\"), trend[\"tweet_volume\"])"
   ]
  }
 ],
 "metadata": {
  "kernelspec": {
   "display_name": "Python 3",
   "language": "python",
   "name": "python3"
  },
  "language_info": {
   "codemirror_mode": {
    "name": "ipython",
    "version": 3
   },
   "file_extension": ".py",
   "mimetype": "text/x-python",
   "name": "python",
   "nbconvert_exporter": "python",
   "pygments_lexer": "ipython3",
   "version": "3.8.8"
  }
 },
 "nbformat": 4,
 "nbformat_minor": 5
}
